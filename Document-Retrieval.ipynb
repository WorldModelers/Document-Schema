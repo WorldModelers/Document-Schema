{
 "cells": [
  {
   "cell_type": "markdown",
   "metadata": {},
   "source": [
    "# Obtaining Documents from Elasticsearch\n",
    "\n",
    "This notebook demonstrates how to query for documents from Elasticsearch.\n",
    "\n",
    "\n",
    "### Configuration\n",
    "First, ensure that the appropriate credentials are stored in your AWS credentials at `~/.aws/credentials`.\n",
    "\n",
    "These should be stored under the `wmuser` profile with something like:\n",
    "\n",
    "```\n",
    "[wmuser]\n",
    "aws_access_key_id = WMUSER_ACCESS_KEY\n",
    "aws_secret_access_key = WMUSER_SECRET_KEY\n",
    "```\n",
    "\n",
    "> Note that this profile must be specified by name when creating the `boto3` session.\n",
    "\n",
    "### Requirements\n",
    "\n",
    "```\n",
    "pip install requests-aws4auth==0.9\n",
    "pip install elasticsearch==7.0.2\n",
    "pip install boto3==1.9.172\n",
    "pip install jsonschema==3.0.1\n",
    "```"
   ]
  },
  {
   "cell_type": "markdown",
   "metadata": {},
   "source": [
    "## Connecting to Elasticsearch\n",
    "First we should connect to Elasticsearch using AWS authentification. This will make it easy to index each parsed document later."
   ]
  },
  {
   "cell_type": "code",
   "execution_count": 1,
   "metadata": {},
   "outputs": [
    {
     "name": "stderr",
     "output_type": "stream",
     "text": [
      "/anaconda3/envs/p37/lib/python3.7/site-packages/requests/__init__.py:91: RequestsDependencyWarning: urllib3 (1.25.3) or chardet (2.3.0) doesn't match a supported version!\n",
      "  RequestsDependencyWarning)\n"
     ]
    }
   ],
   "source": [
    "import boto3\n",
    "import json\n",
    "from jsonschema import validate\n",
    "from elasticsearch import Elasticsearch, RequestsHttpConnection\n",
    "from elasticsearch.helpers import scan\n",
    "from requests_aws4auth import AWS4Auth\n",
    "\n",
    "region = 'us-east-1'\n",
    "service = 'es'\n",
    "eshost = 'search-world-modelers-dev-gjvcliqvo44h4dgby7tn3psw74.us-east-1.es.amazonaws.com'\n",
    "\n",
    "session = boto3.Session(region_name=region, profile_name='wmuser')\n",
    "credentials = session.get_credentials()\n",
    "credentials = credentials.get_frozen_credentials()\n",
    "access_key = credentials.access_key\n",
    "secret_key = credentials.secret_key\n",
    "token = credentials.token\n",
    "\n",
    "aws_auth = AWS4Auth(\n",
    "    access_key,\n",
    "    secret_key,\n",
    "    region,\n",
    "    service,\n",
    "    session_token=token\n",
    ")"
   ]
  },
  {
   "cell_type": "code",
   "execution_count": 2,
   "metadata": {
    "scrolled": true
   },
   "outputs": [
    {
     "name": "stdout",
     "output_type": "stream",
     "text": [
      "{\n",
      "  \"name\": \"ZhaR9MU\",\n",
      "  \"cluster_name\": \"342635568055:world-modelers-dev\",\n",
      "  \"cluster_uuid\": \"nGeAO1lMTKaG6_LOpSg17w\",\n",
      "  \"version\": {\n",
      "    \"number\": \"6.7.0\",\n",
      "    \"build_flavor\": \"oss\",\n",
      "    \"build_type\": \"zip\",\n",
      "    \"build_hash\": \"8453f77\",\n",
      "    \"build_date\": \"2019-04-17T05:34:35.022392Z\",\n",
      "    \"build_snapshot\": false,\n",
      "    \"lucene_version\": \"7.7.0\",\n",
      "    \"minimum_wire_compatibility_version\": \"5.6.0\",\n",
      "    \"minimum_index_compatibility_version\": \"5.0.0\"\n",
      "  },\n",
      "  \"tagline\": \"You Know, for Search\"\n",
      "}\n"
     ]
    }
   ],
   "source": [
    "es = Elasticsearch(\n",
    "    hosts = [{'host': eshost, 'port': 443}],\n",
    "    http_auth=aws_auth,\n",
    "    use_ssl=True,\n",
    "    verify_certs=True,\n",
    "    connection_class=RequestsHttpConnection,\n",
    "    timeout=300\n",
    ")\n",
    "\n",
    "print(json.dumps(es.info(), indent=2))"
   ]
  },
  {
   "cell_type": "markdown",
   "metadata": {},
   "source": [
    "## Querying from Elasticsearch\n",
    "We can pull documents from Elasticsearch with a variety of queries using [Elasticsearch's Query DSL](https://www.elastic.co/guide/en/elasticsearch/reference/6.7/query-dsl.html).\n",
    "\n",
    "First, we can try querying for documents based on the Tika extracted text:"
   ]
  },
  {
   "cell_type": "code",
   "execution_count": 3,
   "metadata": {},
   "outputs": [],
   "source": [
    "index = \"wm-dev\""
   ]
  },
  {
   "cell_type": "code",
   "execution_count": 4,
   "metadata": {},
   "outputs": [],
   "source": [
    "query = {\n",
    "    \"query\": {\n",
    "        \"query_string\" : {\n",
    "            \"default_field\" : \"extracted_text.tika\", # Ensure we use the correct field (could search on `title` as well)\n",
    "            \"query\" : \"refugee AND aid AND (addis OR NGO)\" # Lucene query syntax\n",
    "        }\n",
    "    }\n",
    "}"
   ]
  },
  {
   "cell_type": "code",
   "execution_count": 5,
   "metadata": {},
   "outputs": [
    {
     "name": "stdout",
     "output_type": "stream",
     "text": [
      "The first result file name is: Aid_workers_killed,_kidnapped_and_arrested_Dec-17.pdf\n"
     ]
    }
   ],
   "source": [
    "results = es.search(index=index, body=query)['hits']['hits']\n",
    "print(f\"The first result file name is: {results[0]['_source']['file_name']}\")"
   ]
  },
  {
   "cell_type": "code",
   "execution_count": 6,
   "metadata": {},
   "outputs": [
    {
     "name": "stdout",
     "output_type": "stream",
     "text": [
      "There are 356 total documents in the wm-dev index.\n"
     ]
    }
   ],
   "source": [
    "query = {\n",
    "    \"query\": {\n",
    "        \"match_all\": {}\n",
    "    }\n",
    "}\n",
    "\n",
    "count = es.count(index=index, body=query)['count']\n",
    "print(\"There are {0} total documents in the {1} index.\".format(count,index))"
   ]
  },
  {
   "cell_type": "markdown",
   "metadata": {},
   "source": [
    "For larger queries or bulk downloads you can use a `scan`:"
   ]
  },
  {
   "cell_type": "code",
   "execution_count": 7,
   "metadata": {},
   "outputs": [],
   "source": [
    "scanner = scan(es,\n",
    "    query = query,\n",
    "    index = index\n",
    ")"
   ]
  },
  {
   "cell_type": "code",
   "execution_count": 9,
   "metadata": {},
   "outputs": [],
   "source": [
    "for doc in scanner:\n",
    "    pass\n",
    "    # do something with `doc`\n",
    "    # for example, print the file_name\n",
    "    # print(doc['_source']['file_name'])"
   ]
  },
  {
   "cell_type": "markdown",
   "metadata": {},
   "source": [
    "## Elasticsearch and Schema Validation\n",
    "One thing to note about Elasticsearch is that the JSON document it returns contains top-level Elasticsearch specific metadata, while the actual `document` of interest must be accessed via the `_source` key. However the `_source` does not contain the document `_id`, which is contained at the top-level `_id`. Therefore, for a document to be compliant with [the document-schema.json schema](https://github.com/WorldModelers/Document-Schema/blob/master/document-schema.json) we must extract `_source` and add the `_id` to it.\n",
    "\n",
    "For example:"
   ]
  },
  {
   "cell_type": "code",
   "execution_count": 10,
   "metadata": {},
   "outputs": [],
   "source": [
    "schema = json.loads(open(\"document-schema.json\").read())"
   ]
  },
  {
   "cell_type": "markdown",
   "metadata": {},
   "source": [
    "This will fail because the document is contained in `_source`:"
   ]
  },
  {
   "cell_type": "code",
   "execution_count": 13,
   "metadata": {},
   "outputs": [
    {
     "name": "stdout",
     "output_type": "stream",
     "text": [
      "Validation Error: 'file_name' is a required property\n"
     ]
    }
   ],
   "source": [
    "try:\n",
    "    validate(instance=doc, schema=schema)\n",
    "except Exception as e:\n",
    "    print(f\"Validation Error: {e.message}\")"
   ]
  },
  {
   "cell_type": "markdown",
   "metadata": {},
   "source": [
    "We can create a valid doc by accessing `_source` and adding `_id`:"
   ]
  },
  {
   "cell_type": "code",
   "execution_count": 14,
   "metadata": {},
   "outputs": [],
   "source": [
    "valid_doc = doc['_source']\n",
    "valid_doc['_id'] = doc['_id']\n",
    "\n",
    "validate(instance=valid_doc, schema=schema)"
   ]
  }
 ],
 "metadata": {
  "kernelspec": {
   "display_name": "Python 3",
   "language": "python",
   "name": "python3"
  },
  "language_info": {
   "codemirror_mode": {
    "name": "ipython",
    "version": 3
   },
   "file_extension": ".py",
   "mimetype": "text/x-python",
   "name": "python",
   "nbconvert_exporter": "python",
   "pygments_lexer": "ipython3",
   "version": "3.7.3"
  }
 },
 "nbformat": 4,
 "nbformat_minor": 2
}
